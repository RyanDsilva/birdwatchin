{
  "nbformat": 4,
  "nbformat_minor": 0,
  "metadata": {
    "colab": {
      "name": "Bird classifier.ipynb",
      "version": "0.3.2",
      "provenance": [],
      "include_colab_link": true
    },
    "kernelspec": {
      "name": "python3",
      "display_name": "Python 3"
    }
  },
  "cells": [
    {
      "cell_type": "markdown",
      "metadata": {
        "id": "view-in-github",
        "colab_type": "text"
      },
      "source": [
        "<a href=\"https://colab.research.google.com/github/anushkaparadkar/birdwatchin/blob/master/Bird_classifier.ipynb\" target=\"_parent\"><img src=\"https://colab.research.google.com/assets/colab-badge.svg\" alt=\"Open In Colab\"/></a>"
      ]
    },
    {
      "metadata": {
        "id": "4NshJZtdZ0AU",
        "colab_type": "code",
        "colab": {
          "base_uri": "https://localhost:8080/",
          "height": 402
        },
        "outputId": "15537b23-b67e-4ed8-ce4c-a1768f73cb0d"
      },
      "cell_type": "code",
      "source": [
        "!wget -O nabirds.tar.gz https://www.dropbox.com/s/nf78cbxq6bxpcfc/nabirds.tar.gz?oref=e&n=13142758&submissionGuid=82929f46-f98b-4f3d-a9db-b44b943552ca"
      ],
      "execution_count": 0,
      "outputs": [
        {
          "output_type": "stream",
          "text": [
            "--2019-05-01 17:21:08--  https://www.dropbox.com/s/nf78cbxq6bxpcfc/nabirds.tar.gz?oref=e\n",
            "Resolving www.dropbox.com (www.dropbox.com)... 162.125.9.1, 2620:100:601f:1::a27d:901\n",
            "Connecting to www.dropbox.com (www.dropbox.com)|162.125.9.1|:443... connected.\n",
            "HTTP request sent, awaiting response... 301 Moved Permanently\n",
            "Location: /s/raw/nf78cbxq6bxpcfc/nabirds.tar.gz [following]\n",
            "--2019-05-01 17:21:08--  https://www.dropbox.com/s/raw/nf78cbxq6bxpcfc/nabirds.tar.gz\n",
            "Reusing existing connection to www.dropbox.com:443.\n",
            "HTTP request sent, awaiting response... 302 Found\n",
            "Location: https://ucffa394fd99d7c8bfd68f567900.dl.dropboxusercontent.com/cd/0/inline/AgHatpHDu4EnUvP-3CRIBpDxpHiwqhz1rCeq1xGt1OmsClXilZLOIJJjP5ctZs0JTKwn6RZWFU_TrJr1RX4tEpwGF2AtZp8MEyxijHRsjVNZ7msrN2JY07e5WGK3mmlH5m4/file# [following]\n",
            "--2019-05-01 17:21:09--  https://ucffa394fd99d7c8bfd68f567900.dl.dropboxusercontent.com/cd/0/inline/AgHatpHDu4EnUvP-3CRIBpDxpHiwqhz1rCeq1xGt1OmsClXilZLOIJJjP5ctZs0JTKwn6RZWFU_TrJr1RX4tEpwGF2AtZp8MEyxijHRsjVNZ7msrN2JY07e5WGK3mmlH5m4/file\n",
            "Resolving ucffa394fd99d7c8bfd68f567900.dl.dropboxusercontent.com (ucffa394fd99d7c8bfd68f567900.dl.dropboxusercontent.com)... 162.125.9.6, 2620:100:601f:6::a27d:906\n",
            "Connecting to ucffa394fd99d7c8bfd68f567900.dl.dropboxusercontent.com (ucffa394fd99d7c8bfd68f567900.dl.dropboxusercontent.com)|162.125.9.6|:443... connected.\n",
            "HTTP request sent, awaiting response... 302 FOUND\n",
            "Location: /cd/0/inline2/AgGkDGRpIQWK867oFPiaBm7mebYjWZUvTkFea9xDBNP_aCgxEeOCAF8Vhna5CGT8pTmPEyDb4hp9jX5yVHv3S5tuoqHVFH8ZZ4tPxri4_3u0YPyxTEvj083zRnOWgVYrqEy5-b7eDyrkUx2WuBIIQxY8IHvknrL1ddtpU3v30NdJ0flNvLuz28DoP7f15KRq_0a0NqsAkACWq9sfb9J1LJQ51UiFQUq07T9gEU5jnvKPpI_HxnQlV4y5NHewZ7T4PU9Xh2KohLm9VpiFezUO_9wmBtZGCPn-9ubXvQClwc60eCF_8AAlxMYu2HgEPDhZUFRw77ERDI5ygeOGNE-p-waCN1YpcO75yl8p7a_TFMrH7g/file [following]\n",
            "--2019-05-01 17:21:09--  https://ucffa394fd99d7c8bfd68f567900.dl.dropboxusercontent.com/cd/0/inline2/AgGkDGRpIQWK867oFPiaBm7mebYjWZUvTkFea9xDBNP_aCgxEeOCAF8Vhna5CGT8pTmPEyDb4hp9jX5yVHv3S5tuoqHVFH8ZZ4tPxri4_3u0YPyxTEvj083zRnOWgVYrqEy5-b7eDyrkUx2WuBIIQxY8IHvknrL1ddtpU3v30NdJ0flNvLuz28DoP7f15KRq_0a0NqsAkACWq9sfb9J1LJQ51UiFQUq07T9gEU5jnvKPpI_HxnQlV4y5NHewZ7T4PU9Xh2KohLm9VpiFezUO_9wmBtZGCPn-9ubXvQClwc60eCF_8AAlxMYu2HgEPDhZUFRw77ERDI5ygeOGNE-p-waCN1YpcO75yl8p7a_TFMrH7g/file\n",
            "Reusing existing connection to ucffa394fd99d7c8bfd68f567900.dl.dropboxusercontent.com:443.\n",
            "HTTP request sent, awaiting response... 200 OK\n",
            "Length: 9884285075 (9.2G) [application/octet-stream]\n",
            "Saving to: ‘nabirds.tar.gz’\n",
            "\n",
            "nabirds.tar.gz       35%[======>             ]   3.30G  20.6MB/s    eta 2m 21s "
          ],
          "name": "stdout"
        }
      ]
    }
  ]
}